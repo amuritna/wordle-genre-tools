{
 "cells": [
  {
   "cell_type": "code",
   "execution_count": 4,
   "metadata": {},
   "outputs": [],
   "source": [
    "# TODO: clean up lol\n",
    "\n",
    "import pandas as pd\n",
    "import matplotlib.pyplot as plt \n",
    "\n",
    "\"\"\"\n",
    "How to convert a dictionary into a Pandas DataFrame in Python\n",
    "\n",
    "    data_dict = {\"a\": 1, \"b\": 2, \"c\": 3}\n",
    "    data_items = data_dict. items()\n",
    "    data_list = list(data_items)\n",
    "    df = pd. DataFrame(data_list) create DataFrame from `data_list`\n",
    "    print(df)\n",
    "\"\"\"\n",
    "\n",
    "# copy-pasted from digit-distribution.py\n",
    "digitCount = {'0': 2493, '1': 5672, '2': 3515, '3': 5552, '4': 3412, '5': 3456, '6': 3372, '7': 5520, '8': 3339, '9': 5484}\n",
    "digitDistribution = {'0': {'0': 0, '1': 1033, '2': 983, '3': 958, '4': 930, '5': 924, '6': 878, '7': 902, '8': 876, '9': 879}, '1': {'0': 839, '1': 856, '2': 870, '3': 832, '4': 822, '5': 846, '6': 826, '7': 847, '8': 788, '9': 837}, '2': {'0': 822, '1': 857, '2': 815, '3': 825, '4': 846, '5': 844, '6': 848, '7': 839, '8': 829, '9': 838}, '3': {'0': 832, '1': 845, '2': 847, '3': 845, '4': 814, '5': 842, '6': 820, '7': 829, '8': 846, '9': 843}, '4': {'0': 0, '1': 2081, '2': 0, '3': 2092, '4': 0, '5': 0, '6': 0, '7': 2103, '8': 0, '9': 2087}}\n",
    "digitRepeats = {'0': 234, '1': 1154, '2': 472, '3': 1080, '4': 474, '5': 470, '6': 448, '7': 1095, '8': 405, '9': 1054}"
   ]
  },
  {
   "cell_type": "code",
   "execution_count": 5,
   "metadata": {},
   "outputs": [
    {
     "name": "stdout",
     "output_type": "stream",
     "text": [
      "Total occurence of each digit:\n"
     ]
    },
    {
     "data": {
      "text/html": [
       "<div>\n",
       "<style scoped>\n",
       "    .dataframe tbody tr th:only-of-type {\n",
       "        vertical-align: middle;\n",
       "    }\n",
       "\n",
       "    .dataframe tbody tr th {\n",
       "        vertical-align: top;\n",
       "    }\n",
       "\n",
       "    .dataframe thead th {\n",
       "        text-align: right;\n",
       "    }\n",
       "</style>\n",
       "<table border=\"1\" class=\"dataframe\">\n",
       "  <thead>\n",
       "    <tr style=\"text-align: right;\">\n",
       "      <th></th>\n",
       "      <th>occurences</th>\n",
       "    </tr>\n",
       "  </thead>\n",
       "  <tbody>\n",
       "    <tr>\n",
       "      <th>0</th>\n",
       "      <td>2493</td>\n",
       "    </tr>\n",
       "    <tr>\n",
       "      <th>1</th>\n",
       "      <td>5672</td>\n",
       "    </tr>\n",
       "    <tr>\n",
       "      <th>2</th>\n",
       "      <td>3515</td>\n",
       "    </tr>\n",
       "    <tr>\n",
       "      <th>3</th>\n",
       "      <td>5552</td>\n",
       "    </tr>\n",
       "    <tr>\n",
       "      <th>4</th>\n",
       "      <td>3412</td>\n",
       "    </tr>\n",
       "    <tr>\n",
       "      <th>5</th>\n",
       "      <td>3456</td>\n",
       "    </tr>\n",
       "    <tr>\n",
       "      <th>6</th>\n",
       "      <td>3372</td>\n",
       "    </tr>\n",
       "    <tr>\n",
       "      <th>7</th>\n",
       "      <td>5520</td>\n",
       "    </tr>\n",
       "    <tr>\n",
       "      <th>8</th>\n",
       "      <td>3339</td>\n",
       "    </tr>\n",
       "    <tr>\n",
       "      <th>9</th>\n",
       "      <td>5484</td>\n",
       "    </tr>\n",
       "  </tbody>\n",
       "</table>\n",
       "</div>"
      ],
      "text/plain": [
       "   occurences\n",
       "0        2493\n",
       "1        5672\n",
       "2        3515\n",
       "3        5552\n",
       "4        3412\n",
       "5        3456\n",
       "6        3372\n",
       "7        5520\n",
       "8        3339\n",
       "9        5484"
      ]
     },
     "execution_count": 5,
     "metadata": {},
     "output_type": "execute_result"
    }
   ],
   "source": [
    "df1 = pd.DataFrame(list(digitCount.items()))\n",
    "df1.columns = [\"number\", \"occurences\"]\n",
    "del df1[\"number\"]\n",
    "\n",
    "print(\"Total occurence of each digit:\")\n",
    "df1.head(10)"
   ]
  },
  {
   "cell_type": "code",
   "execution_count": 6,
   "metadata": {},
   "outputs": [
    {
     "name": "stdout",
     "output_type": "stream",
     "text": [
      "Distribution of each digit:\n"
     ]
    },
    {
     "data": {
      "text/html": [
       "<div>\n",
       "<style scoped>\n",
       "    .dataframe tbody tr th:only-of-type {\n",
       "        vertical-align: middle;\n",
       "    }\n",
       "\n",
       "    .dataframe tbody tr th {\n",
       "        vertical-align: top;\n",
       "    }\n",
       "\n",
       "    .dataframe thead th {\n",
       "        text-align: right;\n",
       "    }\n",
       "</style>\n",
       "<table border=\"1\" class=\"dataframe\">\n",
       "  <thead>\n",
       "    <tr style=\"text-align: right;\">\n",
       "      <th></th>\n",
       "      <th>0</th>\n",
       "      <th>1</th>\n",
       "      <th>2</th>\n",
       "      <th>3</th>\n",
       "      <th>4</th>\n",
       "      <th>5</th>\n",
       "      <th>6</th>\n",
       "      <th>7</th>\n",
       "      <th>8</th>\n",
       "      <th>9</th>\n",
       "    </tr>\n",
       "  </thead>\n",
       "  <tbody>\n",
       "    <tr>\n",
       "      <th>1st</th>\n",
       "      <td>0</td>\n",
       "      <td>1033</td>\n",
       "      <td>983</td>\n",
       "      <td>958</td>\n",
       "      <td>930</td>\n",
       "      <td>924</td>\n",
       "      <td>878</td>\n",
       "      <td>902</td>\n",
       "      <td>876</td>\n",
       "      <td>879</td>\n",
       "    </tr>\n",
       "    <tr>\n",
       "      <th>2nd</th>\n",
       "      <td>839</td>\n",
       "      <td>856</td>\n",
       "      <td>870</td>\n",
       "      <td>832</td>\n",
       "      <td>822</td>\n",
       "      <td>846</td>\n",
       "      <td>826</td>\n",
       "      <td>847</td>\n",
       "      <td>788</td>\n",
       "      <td>837</td>\n",
       "    </tr>\n",
       "    <tr>\n",
       "      <th>3rd</th>\n",
       "      <td>822</td>\n",
       "      <td>857</td>\n",
       "      <td>815</td>\n",
       "      <td>825</td>\n",
       "      <td>846</td>\n",
       "      <td>844</td>\n",
       "      <td>848</td>\n",
       "      <td>839</td>\n",
       "      <td>829</td>\n",
       "      <td>838</td>\n",
       "    </tr>\n",
       "    <tr>\n",
       "      <th>4th</th>\n",
       "      <td>832</td>\n",
       "      <td>845</td>\n",
       "      <td>847</td>\n",
       "      <td>845</td>\n",
       "      <td>814</td>\n",
       "      <td>842</td>\n",
       "      <td>820</td>\n",
       "      <td>829</td>\n",
       "      <td>846</td>\n",
       "      <td>843</td>\n",
       "    </tr>\n",
       "    <tr>\n",
       "      <th>5th</th>\n",
       "      <td>0</td>\n",
       "      <td>2081</td>\n",
       "      <td>0</td>\n",
       "      <td>2092</td>\n",
       "      <td>0</td>\n",
       "      <td>0</td>\n",
       "      <td>0</td>\n",
       "      <td>2103</td>\n",
       "      <td>0</td>\n",
       "      <td>2087</td>\n",
       "    </tr>\n",
       "  </tbody>\n",
       "</table>\n",
       "</div>"
      ],
      "text/plain": [
       "       0     1    2     3    4    5    6     7    8     9\n",
       "1st    0  1033  983   958  930  924  878   902  876   879\n",
       "2nd  839   856  870   832  822  846  826   847  788   837\n",
       "3rd  822   857  815   825  846  844  848   839  829   838\n",
       "4th  832   845  847   845  814  842  820   829  846   843\n",
       "5th    0  2081    0  2092    0    0    0  2103    0  2087"
      ]
     },
     "execution_count": 6,
     "metadata": {},
     "output_type": "execute_result"
    }
   ],
   "source": [
    "df2 = pd.DataFrame(digitDistribution)\n",
    "df2.columns = ['1st', '2nd', '3rd', '4th', '5th']\n",
    "df2 = df2.transpose()\n",
    "\n",
    "print(\"Distribution of each digit:\")\n",
    "df2.head(10)"
   ]
  },
  {
   "cell_type": "code",
   "execution_count": 7,
   "metadata": {},
   "outputs": [
    {
     "name": "stdout",
     "output_type": "stream",
     "text": [
      "Total occurence of each digit as a repeating digit:\n"
     ]
    },
    {
     "data": {
      "text/html": [
       "<div>\n",
       "<style scoped>\n",
       "    .dataframe tbody tr th:only-of-type {\n",
       "        vertical-align: middle;\n",
       "    }\n",
       "\n",
       "    .dataframe tbody tr th {\n",
       "        vertical-align: top;\n",
       "    }\n",
       "\n",
       "    .dataframe thead th {\n",
       "        text-align: right;\n",
       "    }\n",
       "</style>\n",
       "<table border=\"1\" class=\"dataframe\">\n",
       "  <thead>\n",
       "    <tr style=\"text-align: right;\">\n",
       "      <th></th>\n",
       "      <th>occurences as a repeating digit</th>\n",
       "    </tr>\n",
       "  </thead>\n",
       "  <tbody>\n",
       "    <tr>\n",
       "      <th>0</th>\n",
       "      <td>234</td>\n",
       "    </tr>\n",
       "    <tr>\n",
       "      <th>1</th>\n",
       "      <td>1154</td>\n",
       "    </tr>\n",
       "    <tr>\n",
       "      <th>2</th>\n",
       "      <td>472</td>\n",
       "    </tr>\n",
       "    <tr>\n",
       "      <th>3</th>\n",
       "      <td>1080</td>\n",
       "    </tr>\n",
       "    <tr>\n",
       "      <th>4</th>\n",
       "      <td>474</td>\n",
       "    </tr>\n",
       "    <tr>\n",
       "      <th>5</th>\n",
       "      <td>470</td>\n",
       "    </tr>\n",
       "    <tr>\n",
       "      <th>6</th>\n",
       "      <td>448</td>\n",
       "    </tr>\n",
       "    <tr>\n",
       "      <th>7</th>\n",
       "      <td>1095</td>\n",
       "    </tr>\n",
       "    <tr>\n",
       "      <th>8</th>\n",
       "      <td>405</td>\n",
       "    </tr>\n",
       "    <tr>\n",
       "      <th>9</th>\n",
       "      <td>1054</td>\n",
       "    </tr>\n",
       "  </tbody>\n",
       "</table>\n",
       "</div>"
      ],
      "text/plain": [
       "   occurences as a repeating digit\n",
       "0                              234\n",
       "1                             1154\n",
       "2                              472\n",
       "3                             1080\n",
       "4                              474\n",
       "5                              470\n",
       "6                              448\n",
       "7                             1095\n",
       "8                              405\n",
       "9                             1054"
      ]
     },
     "execution_count": 7,
     "metadata": {},
     "output_type": "execute_result"
    }
   ],
   "source": [
    "df3 = pd.DataFrame(list(digitRepeats.items()))\n",
    "df3.columns = [\"number\", \"occurences as a repeating digit\"]\n",
    "del df3[\"number\"]\n",
    "\n",
    "print(\"Total occurence of each digit as a repeating digit:\")\n",
    "df3.head(10)"
   ]
  },
  {
   "cell_type": "code",
   "execution_count": 8,
   "metadata": {},
   "outputs": [
    {
     "data": {
      "image/png": "[encoded data removed]",
      "text/plain": [
       "<Figure size 720x504 with 1 Axes>"
      ]
     },
     "metadata": {
      "needs_background": "light"
     },
     "output_type": "display_data"
    }
   ],
   "source": [
    "df1.plot(use_index=True, kind=\"bar\", figsize=(10,7), title=\"Total occurence of each digit\")\n",
    "plt.show()"
   ]
  },
  {
   "cell_type": "code",
   "execution_count": 32,
   "metadata": {},
   "outputs": [
    {
     "data": {
      "image/png": "[encoded data removed]",
      "text/plain": [
       "<Figure size 720x504 with 1 Axes>"
      ]
     },
     "metadata": {
      "needs_background": "light"
     },
     "output_type": "display_data"
    }
   ],
   "source": [
    "df3.plot(use_index=True, kind=\"bar\", figsize=(10,7), title=\"Total occurence of each digit as a repeating digit\", color=\"orange\")\n",
    "plt.show()"
   ]
  },
  {
   "cell_type": "code",
   "execution_count": 27,
   "metadata": {},
   "outputs": [
    {
     "data": {
      "image/png": "[encoded data removed]",
      "text/plain": [
       "<Figure size 720x360 with 1 Axes>"
      ]
     },
     "metadata": {
      "needs_background": "light"
     },
     "output_type": "display_data"
    }
   ],
   "source": [
    "df1and3 = df1.join(df3)\n",
    "#df1and3.head()\n",
    "\n",
    "df1and3.plot.bar(use_index=True, figsize=(10,5))\n",
    "plt.xticks(rotation=0)\n",
    "plt.show()"
   ]
  },
  {
   "cell_type": "code",
   "execution_count": 30,
   "metadata": {},
   "outputs": [
    {
     "data": {
      "image/png": "[encoded data removed]",
      "text/plain": [
       "<Figure size 1080x504 with 1 Axes>"
      ]
     },
     "metadata": {
      "needs_background": "light"
     },
     "output_type": "display_data"
    }
   ],
   "source": [
    "df2.plot(use_index=True, y=[\"0\", \"1\", \"2\", \"3\", \"4\", \"5\", \"6\", \"7\", \"8\", \"9\"], kind=\"bar\", figsize=(15,7), title=\"Distribution of digits by position\")\n",
    "plt.show()"
   ]
  },
  {
   "cell_type": "markdown",
   "metadata": {},
   "source": [
    "**Further Questions**\n",
    "- Given certain conditions (e.g. a \"3\" on the \"1st\", how does the distribution change?)\n",
    "- Which 5 (or less, if with repeats) numbers often go together?\n",
    "- For those \"numbers who go together\", how is the distribution?\n",
    "- Which numbers are most often repeated?\n",
    "- Most \"effective\" starter numbers, or is there no such thing?"
   ]
  }
 ],
 "metadata": {
  "interpreter": {
   "hash": "42588fd11209419b7c81abe23e31a1d2101f60811b02170c268e57ebb57d5d9a"
  },
  "kernelspec": {
   "display_name": "Python 3.9.7 ('base')",
   "language": "python",
   "name": "python3"
  },
  "language_info": {
   "codemirror_mode": {
    "name": "ipython",
    "version": 3
   },
   "file_extension": ".py",
   "mimetype": "text/x-python",
   "name": "python",
   "nbconvert_exporter": "python",
   "pygments_lexer": "ipython3",
   "version": "3.9.7"
  },
  "orig_nbformat": 4
 },
 "nbformat": 4,
 "nbformat_minor": 2
}
